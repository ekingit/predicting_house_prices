{
 "cells": [
  {
   "cell_type": "code",
   "execution_count": 1,
   "id": "890b740b-5678-45d2-9b74-08b34be973a8",
   "metadata": {},
   "outputs": [],
   "source": [
    "#Main libs\n",
    "%matplotlib inline\n",
    "import time\n",
    "import numpy as np\n",
    "import pandas as pd\n",
    "import matplotlib.pyplot as plt"
   ]
  },
  {
   "cell_type": "code",
   "execution_count": 2,
   "id": "e1e3499f-5199-4089-82d4-ee890a84b569",
   "metadata": {},
   "outputs": [],
   "source": [
    "#Torch libs\n",
    "import torch\n",
    "import torch.nn as nn\n",
    "import torch.nn.functional as F\n",
    "import torch.utils.data\n",
    "from torch.utils.data import DataLoader"
   ]
  },
  {
   "cell_type": "markdown",
   "id": "a6113a0f-611f-45a9-a94c-b4e2dbf5c889",
   "metadata": {},
   "source": [
    "# Description"
   ]
  },
  {
   "cell_type": "markdown",
   "id": "4a98cc57-c117-4296-ada7-b64ec5488ba1",
   "metadata": {},
   "source": [
    "__Input:__ Two datasets of sizes 1460 and 1459, respectively. Each data point in these datasets consists of 79 parameters: 39 numerical values and 40 non-numerical discrete parameters. The first dataset also includes SalePrice.\n",
    "\n",
    "__Output:__ Predictions of SalePrice for the second dataset.\n",
    "\n",
    "__Goal:__ Create a regression model to predict SalePrice for the second dataset with minimal error. The error is calculated using the formula:\n",
    "\n",
    "log_rmse = $(\\frac{\\sum_{i=1}^N(log(y_i)-log(\\hat{y}_i))^2}{N})^{1/2}$\n"
   ]
  },
  {
   "cell_type": "markdown",
   "id": "ff4b7713-6436-466e-80f2-21f6e6fd7e6b",
   "metadata": {},
   "source": [
    "# Data"
   ]
  },
  {
   "cell_type": "markdown",
   "id": "7a2b686c-a89d-482a-842d-1af0de41adee",
   "metadata": {},
   "source": [
    "In this section, we will preprocess data. This includes cleaning, vectorizing, normalizing, and splitting it into training and testing sets."
   ]
  },
  {
   "cell_type": "code",
   "execution_count": 3,
   "id": "63489867-daed-4973-a4bb-9b26d304b7e6",
   "metadata": {},
   "outputs": [
    {
     "name": "stdout",
     "output_type": "stream",
     "text": [
      "(1460, 81) (1459, 80)\n"
     ]
    }
   ],
   "source": [
    "df_raw = pd.read_csv('Kaggle_house_prices/train.csv') #Data to be splitted train-test. Includes SalePrice\n",
    "df_pred_raw= pd.read_csv('Kaggle_house_prices/test.csv') #Data for the results. SalePrice to be predicted.\n",
    "print(df_raw.shape, df_pred_raw.shape)"
   ]
  },
  {
   "cell_type": "code",
   "execution_count": 4,
   "id": "29bc3fe0-5b97-45d7-8015-ee97b6cecb6a",
   "metadata": {},
   "outputs": [
    {
     "data": {
      "text/html": [
       "<div>\n",
       "<style scoped>\n",
       "    .dataframe tbody tr th:only-of-type {\n",
       "        vertical-align: middle;\n",
       "    }\n",
       "\n",
       "    .dataframe tbody tr th {\n",
       "        vertical-align: top;\n",
       "    }\n",
       "\n",
       "    .dataframe thead th {\n",
       "        text-align: right;\n",
       "    }\n",
       "</style>\n",
       "<table border=\"1\" class=\"dataframe\">\n",
       "  <thead>\n",
       "    <tr style=\"text-align: right;\">\n",
       "      <th></th>\n",
       "      <th>Id</th>\n",
       "      <th>MSSubClass</th>\n",
       "      <th>MSZoning</th>\n",
       "      <th>LotFrontage</th>\n",
       "      <th>LotArea</th>\n",
       "      <th>Street</th>\n",
       "      <th>Alley</th>\n",
       "      <th>LotShape</th>\n",
       "      <th>LandContour</th>\n",
       "      <th>Utilities</th>\n",
       "      <th>...</th>\n",
       "      <th>PoolArea</th>\n",
       "      <th>PoolQC</th>\n",
       "      <th>Fence</th>\n",
       "      <th>MiscFeature</th>\n",
       "      <th>MiscVal</th>\n",
       "      <th>MoSold</th>\n",
       "      <th>YrSold</th>\n",
       "      <th>SaleType</th>\n",
       "      <th>SaleCondition</th>\n",
       "      <th>SalePrice</th>\n",
       "    </tr>\n",
       "  </thead>\n",
       "  <tbody>\n",
       "    <tr>\n",
       "      <th>0</th>\n",
       "      <td>1</td>\n",
       "      <td>60</td>\n",
       "      <td>RL</td>\n",
       "      <td>65.0</td>\n",
       "      <td>8450</td>\n",
       "      <td>Pave</td>\n",
       "      <td>NaN</td>\n",
       "      <td>Reg</td>\n",
       "      <td>Lvl</td>\n",
       "      <td>AllPub</td>\n",
       "      <td>...</td>\n",
       "      <td>0</td>\n",
       "      <td>NaN</td>\n",
       "      <td>NaN</td>\n",
       "      <td>NaN</td>\n",
       "      <td>0</td>\n",
       "      <td>2</td>\n",
       "      <td>2008</td>\n",
       "      <td>WD</td>\n",
       "      <td>Normal</td>\n",
       "      <td>208500</td>\n",
       "    </tr>\n",
       "    <tr>\n",
       "      <th>1</th>\n",
       "      <td>2</td>\n",
       "      <td>20</td>\n",
       "      <td>RL</td>\n",
       "      <td>80.0</td>\n",
       "      <td>9600</td>\n",
       "      <td>Pave</td>\n",
       "      <td>NaN</td>\n",
       "      <td>Reg</td>\n",
       "      <td>Lvl</td>\n",
       "      <td>AllPub</td>\n",
       "      <td>...</td>\n",
       "      <td>0</td>\n",
       "      <td>NaN</td>\n",
       "      <td>NaN</td>\n",
       "      <td>NaN</td>\n",
       "      <td>0</td>\n",
       "      <td>5</td>\n",
       "      <td>2007</td>\n",
       "      <td>WD</td>\n",
       "      <td>Normal</td>\n",
       "      <td>181500</td>\n",
       "    </tr>\n",
       "    <tr>\n",
       "      <th>2</th>\n",
       "      <td>3</td>\n",
       "      <td>60</td>\n",
       "      <td>RL</td>\n",
       "      <td>68.0</td>\n",
       "      <td>11250</td>\n",
       "      <td>Pave</td>\n",
       "      <td>NaN</td>\n",
       "      <td>IR1</td>\n",
       "      <td>Lvl</td>\n",
       "      <td>AllPub</td>\n",
       "      <td>...</td>\n",
       "      <td>0</td>\n",
       "      <td>NaN</td>\n",
       "      <td>NaN</td>\n",
       "      <td>NaN</td>\n",
       "      <td>0</td>\n",
       "      <td>9</td>\n",
       "      <td>2008</td>\n",
       "      <td>WD</td>\n",
       "      <td>Normal</td>\n",
       "      <td>223500</td>\n",
       "    </tr>\n",
       "    <tr>\n",
       "      <th>3</th>\n",
       "      <td>4</td>\n",
       "      <td>70</td>\n",
       "      <td>RL</td>\n",
       "      <td>60.0</td>\n",
       "      <td>9550</td>\n",
       "      <td>Pave</td>\n",
       "      <td>NaN</td>\n",
       "      <td>IR1</td>\n",
       "      <td>Lvl</td>\n",
       "      <td>AllPub</td>\n",
       "      <td>...</td>\n",
       "      <td>0</td>\n",
       "      <td>NaN</td>\n",
       "      <td>NaN</td>\n",
       "      <td>NaN</td>\n",
       "      <td>0</td>\n",
       "      <td>2</td>\n",
       "      <td>2006</td>\n",
       "      <td>WD</td>\n",
       "      <td>Abnorml</td>\n",
       "      <td>140000</td>\n",
       "    </tr>\n",
       "    <tr>\n",
       "      <th>4</th>\n",
       "      <td>5</td>\n",
       "      <td>60</td>\n",
       "      <td>RL</td>\n",
       "      <td>84.0</td>\n",
       "      <td>14260</td>\n",
       "      <td>Pave</td>\n",
       "      <td>NaN</td>\n",
       "      <td>IR1</td>\n",
       "      <td>Lvl</td>\n",
       "      <td>AllPub</td>\n",
       "      <td>...</td>\n",
       "      <td>0</td>\n",
       "      <td>NaN</td>\n",
       "      <td>NaN</td>\n",
       "      <td>NaN</td>\n",
       "      <td>0</td>\n",
       "      <td>12</td>\n",
       "      <td>2008</td>\n",
       "      <td>WD</td>\n",
       "      <td>Normal</td>\n",
       "      <td>250000</td>\n",
       "    </tr>\n",
       "  </tbody>\n",
       "</table>\n",
       "<p>5 rows × 81 columns</p>\n",
       "</div>"
      ],
      "text/plain": [
       "   Id  MSSubClass MSZoning  LotFrontage  LotArea Street Alley LotShape  \\\n",
       "0   1          60       RL         65.0     8450   Pave   NaN      Reg   \n",
       "1   2          20       RL         80.0     9600   Pave   NaN      Reg   \n",
       "2   3          60       RL         68.0    11250   Pave   NaN      IR1   \n",
       "3   4          70       RL         60.0     9550   Pave   NaN      IR1   \n",
       "4   5          60       RL         84.0    14260   Pave   NaN      IR1   \n",
       "\n",
       "  LandContour Utilities  ... PoolArea PoolQC Fence MiscFeature MiscVal MoSold  \\\n",
       "0         Lvl    AllPub  ...        0    NaN   NaN         NaN       0      2   \n",
       "1         Lvl    AllPub  ...        0    NaN   NaN         NaN       0      5   \n",
       "2         Lvl    AllPub  ...        0    NaN   NaN         NaN       0      9   \n",
       "3         Lvl    AllPub  ...        0    NaN   NaN         NaN       0      2   \n",
       "4         Lvl    AllPub  ...        0    NaN   NaN         NaN       0     12   \n",
       "\n",
       "  YrSold  SaleType  SaleCondition  SalePrice  \n",
       "0   2008        WD         Normal     208500  \n",
       "1   2007        WD         Normal     181500  \n",
       "2   2008        WD         Normal     223500  \n",
       "3   2006        WD        Abnorml     140000  \n",
       "4   2008        WD         Normal     250000  \n",
       "\n",
       "[5 rows x 81 columns]"
      ]
     },
     "execution_count": 4,
     "metadata": {},
     "output_type": "execute_result"
    }
   ],
   "source": [
    "df_raw.iloc[:5]"
   ]
  },
  {
   "cell_type": "markdown",
   "id": "57d944fa-9412-44fd-9a73-59d3bd38171e",
   "metadata": {},
   "source": [
    "Since SalePrice is the target value we want to predict, we save it separately and drop it along with Id."
   ]
  },
  {
   "cell_type": "code",
   "execution_count": 5,
   "id": "00d8ed00-68d3-4783-b9a6-944ecd633650",
   "metadata": {},
   "outputs": [],
   "source": [
    "target_raw = df_raw['SalePrice'] #split the target values\n",
    "df_clean = df_raw.drop(columns=['Id','SalePrice']) #drop unnecessary columns\n",
    "pred_id = df_pred_raw['Id'] #save prediction Id for later use\n",
    "df_pred_clean = df_pred_raw.drop(columns=['Id']) #drop unnecessary columns"
   ]
  },
  {
   "cell_type": "markdown",
   "id": "36fa87fb-074d-49c2-a716-38ac58b0ca6d",
   "metadata": {},
   "source": [
    "Next, we concatenate the training and test data to normalize them together. Normalization is a standard technique in both data science and theoretical physics, used to represent data with smaller numbers for convenience and computational efficiency. We subtract mu, a constant representing the mean, and divide by sigma, another constant representing the standard deviation. It is crucial to save mu and sigma, as they must remain constant. Whenever we apply our model to new data, we must use these same constants, not the mean and standard deviation of the new data."
   ]
  },
  {
   "cell_type": "code",
   "execution_count": 6,
   "id": "249bf503-cffc-48d6-b408-bed4ffdbc9eb",
   "metadata": {},
   "outputs": [],
   "source": [
    "df_conc = pd.concat([df_clean,df_pred_clean]) #concatenate all data for preprocessing\n",
    "num_columns = df_conc.select_dtypes(include = ['float64', 'int64']).columns #take numerical columns\n",
    "mu_df = df_conc[num_columns].mean() #save mean for further use\n",
    "sigma_df = df_conc[num_columns].std() #save std dev for further use\n",
    "df_conc[num_columns] = df_conc[num_columns].apply(lambda x: (x-x.mean())/(x.std())) #normalize around the mean\n",
    "df_conc[num_columns] = df_conc[num_columns].fillna(0) #set NaN to 0 which is the mean of the normalized data\n",
    "mu_target = target_raw.mean() #save mean for further use\n",
    "sigma_target = target_raw.std() #save std dev for further use\n",
    "target = (target_raw - target_raw.mean())/target_raw.std() #normalize target "
   ]
  },
  {
   "cell_type": "code",
   "execution_count": 7,
   "id": "6f25e7d4-1af3-41ca-b258-c832eb68b390",
   "metadata": {},
   "outputs": [
    {
     "data": {
      "text/plain": [
       "36"
      ]
     },
     "execution_count": 7,
     "metadata": {},
     "output_type": "execute_result"
    }
   ],
   "source": [
    "len(num_columns)"
   ]
  },
  {
   "cell_type": "markdown",
   "id": "d6a7726f-ab06-4065-b18d-ad2c8e16de4a",
   "metadata": {},
   "source": [
    "Next, we address non-numerical values by creating a new numerical dimension for each unique non-numerical value in a column. For example, the SaleCondition column has two non-numerical values: Normal and Abnorml. These are mapped to $\\mathbb{R}^2$, where Normal is represented by (1,0) and Abnorml by (0,1). This process, known as one-hot encoding, can become complex and cumbersome, especially when dealing with many non-numerical values. However, in our case, we only have a few unique values across 43 non-numerical columns, and the PyTorch library simplifies this task by automating the process."
   ]
  },
  {
   "cell_type": "code",
   "execution_count": 8,
   "id": "af04f785-6aab-4329-a2c6-9db817566404",
   "metadata": {},
   "outputs": [
    {
     "data": {
      "text/plain": [
       "(2919, 330)"
      ]
     },
     "execution_count": 8,
     "metadata": {},
     "output_type": "execute_result"
    }
   ],
   "source": [
    "df_conc = pd.get_dummies(df_conc,dummy_na=True) ### vectorize non-numerical discrete values: 43 columns -> 294 columns\n",
    "df_conc.shape"
   ]
  },
  {
   "cell_type": "markdown",
   "id": "bede74a7-13c3-4e19-8df9-80253edcb4d4",
   "metadata": {},
   "source": [
    "Preprocessing is almost done! We just need to un-concatenate the data and split it into training and testing sets."
   ]
  },
  {
   "cell_type": "code",
   "execution_count": 9,
   "id": "a193d24b-c49c-4587-a3cf-18432165518a",
   "metadata": {},
   "outputs": [],
   "source": [
    "#separate df and pred\n",
    "df = df_conc[:1460]\n",
    "df_pred = df_conc[1460:]\n",
    "\n",
    "#split df train=1200, test=260\n",
    "var = np.random.choice(range(1459), 260, replace=False) #replace = no rep.\n",
    "df_train = df.drop(var)\n",
    "train_target = target_raw.drop(var)\n",
    "df_test = df.loc[var]\n",
    "test_target = target_raw.loc[var]"
   ]
  },
  {
   "cell_type": "code",
   "execution_count": 10,
   "id": "298c9e8a-c910-4ac3-a416-943f6c63941f",
   "metadata": {},
   "outputs": [],
   "source": [
    "#Transform everything to appropriate tensors for the dataloader\n",
    "df_tens = torch.tensor(df.values.astype(np.float32))\n",
    "df_train_tens = torch.tensor(df_train.values.astype(np.float32))\n",
    "target_train_tens = torch.tensor(train_target.values.astype(np.float32)).reshape(-1,1)\n",
    "df_test_tens = torch.tensor(df_test.values.astype(np.float32))\n",
    "target_test_tens = torch.tensor(test_target.values.astype(np.float32)).reshape(-1,1)\n",
    "df_pred_tens = torch.tensor(df_pred.values.astype(np.float32))\n"
   ]
  },
  {
   "cell_type": "code",
   "execution_count": 11,
   "id": "abe958d2-ae29-4dd4-b179-8f76a6505a30",
   "metadata": {},
   "outputs": [
    {
     "name": "stdout",
     "output_type": "stream",
     "text": [
      "torch.Size([1200, 330]) torch.Size([1200, 1])\n",
      "torch.Size([260, 330]) torch.Size([260, 1])\n",
      "torch.Size([1459, 330])\n"
     ]
    }
   ],
   "source": [
    "print(df_train_tens.shape, target_train_tens.shape)\n",
    "print(df_test_tens.shape, target_test_tens.shape)\n",
    "print(df_pred_tens.shape)\n",
    "#looks good\n",
    "#DATA IS READY FOR TRAINING!"
   ]
  },
  {
   "cell_type": "markdown",
   "id": "0d461862-b64b-4bd1-b453-c8b99fead1cf",
   "metadata": {},
   "source": [
    "# Model"
   ]
  },
  {
   "cell_type": "markdown",
   "id": "13ab86bb-1bdf-4b5e-90e6-ed56e5ea147c",
   "metadata": {},
   "source": [
    "We use a regression model and define model as a subclass of nn.Module of Pytorch library so that we can use Pytorch functionalities for training. The choices we have to make at this point are\n",
    "\n",
    "__depth:__ number of hidden layers (features) = 4\n",
    "\n",
    "__hidden layer size:__ number of nodes in each hidden layer: 500, 2000, 200, 32\n",
    "\n",
    "__activation functions:__ non-linear function to be applied at each layer: ReLU\n",
    "\n",
    "__loss function:__ log_rmse "
   ]
  },
  {
   "cell_type": "markdown",
   "id": "0ae49fc4-68dc-418d-b7e3-ecd10cb69d31",
   "metadata": {},
   "source": [
    "Here is a summary of layers we defined:\n",
    "\n",
    "$$\\mathbb{R}^{330\\times n}\\xrightarrow[ReLU\\circ (Linear)]{max(0,- .W_1+b_1)} \\mathbb{R}^{500\\times n} \\rightarrow \\mathbb{R}^{2000\\times n}\\rightarrow \\mathbb{R}^{200\\times n}\\rightarrow \\mathbb{R}^{32\\times n}\\rightarrow \\mathbb{R}^{1\\times n}$$\n",
    "\n",
    "$$X\\mapsto H_1 = max(0,W_1.X+b_1)\\mapsto H_2 = max(0,W_2.H_1+b_2) \\mapsto H_3\\mapsto H_4 \\mapsto \\hat{Y}$$"
   ]
  },
  {
   "cell_type": "code",
   "execution_count": 12,
   "id": "09fef2a5-448d-4fe2-8815-5eae792ab9cc",
   "metadata": {},
   "outputs": [],
   "source": [
    "class predicter(nn.Module): #(batch_size=n, 330) --> 1\n",
    "    def __init__(self, in_size=330, H1=500,H2=2000,H3=200,H4=32,out_size=1,d_o=0):\n",
    "        super(predicter, self).__init__()\n",
    "        self.lp1 = nn.Linear(in_size,H1)\n",
    "        self.lp2 = nn.Linear(H1,H2)\n",
    "        self.lp3 = nn.Linear(H2,H3)\n",
    "        self.lp4 = nn.Linear(H3,H4)\n",
    "        self.lp5 = nn.Linear(H4,out_size)\n",
    "        self.act = nn.ReLU()\n",
    "        self.drop = nn.Dropout(d_o)\n",
    "\n",
    "    def forward(self, X):\n",
    "        X = self.drop(self.act(self.lp1(X)))\n",
    "        X = self.drop(self.act(self.lp2(X)))\n",
    "        X = self.drop(self.act(self.lp3(X)))\n",
    "        X = self.drop(self.act(self.lp4(X)))\n",
    "        X = self.drop(self.act(self.lp5(X)))\n",
    "        return X"
   ]
  },
  {
   "cell_type": "code",
   "execution_count": 13,
   "id": "50a40f71-caf1-4b2e-8279-278cbd05cc09",
   "metadata": {},
   "outputs": [],
   "source": [
    "mse_loss = nn.MSELoss(reduction='sum')\n",
    "mse_loss_mean = nn.MSELoss(reduction='mean')\n",
    "def rmse(y,y_hat):\n",
    "    log_rmse = torch.sqrt(mse_loss_mean(torch.log(y),torch.log(y_hat)))\n",
    "    return log_rmse"
   ]
  },
  {
   "cell_type": "markdown",
   "id": "3eda8d20-8f25-4ef7-82a5-b57b78de86ea",
   "metadata": {},
   "source": [
    "# Train"
   ]
  },
  {
   "cell_type": "markdown",
   "id": "032d8ef9-7e9f-4a31-a2e6-37e79edf3085",
   "metadata": {},
   "source": [
    "Next, we have to define the training loop. The model we defined assigns random $W$ and $b$ parameters to find a number by the map $\\mathbb{R}^{330\\times n}\\rightarrow\\mathbb{R}^{1\\times n}$. Then, we calculate loss, take partial derivative $g_i = \\nabla_{i} (loss)$ for each layer and update parameters $(W_i,b_i)\\rightarrow (W,b)-\\eta. g_i$ where $\\eta$ is the learning rate. Pytorch does these automatically. "
   ]
  },
  {
   "cell_type": "code",
   "execution_count": 14,
   "id": "d3cec5d8-d987-4fc8-a85b-597870e27e0c",
   "metadata": {},
   "outputs": [],
   "source": [
    "def train(model, data, target, optimizer, epoch, device='cpu'):\n",
    "    train_loss = 0\n",
    "    model.train()\n",
    "    optimizer.zero_grad()\n",
    "    data = data\n",
    "    target = target\n",
    "    data, target = data.to(device), target.to(device)\n",
    "    output = model(data)\n",
    "    train_loss = rmse(output, target) #mean squared error \n",
    "    train_loss.backward() #calculates gradients\n",
    "    optimizer.step() #updates weights\n",
    "    trainloss.append(train_loss.detach())\n",
    "    #print('\\nEpoch: {} Train Loss: {:.4f}\\n'.format(epoch,train_loss))"
   ]
  },
  {
   "cell_type": "code",
   "execution_count": 15,
   "id": "1556b04c",
   "metadata": {},
   "outputs": [],
   "source": [
    "def test(model, data, target, device='cpu'):\n",
    "    test_loss = 0\n",
    "    model.eval()\n",
    "    data = data\n",
    "    target = target\n",
    "    data, target = data.to(device), target.to(device)\n",
    "    output = model(data)\n",
    "    test_loss = rmse(output, target)\n",
    "    testloss.append(test_loss.detach())\n",
    "    #print(f\" Test Loss {test_loss}\")\n",
    "    "
   ]
  },
  {
   "cell_type": "markdown",
   "id": "c6fe9454-da8c-47a0-9695-4dade17d4612",
   "metadata": {},
   "source": [
    "__Hyperparameters:__\n",
    "\n",
    "optimizer: updates parameters. = SGD.\n",
    "\n",
    "learning rate = 0.1\n",
    "\n",
    "weight decay = None\n",
    "\n",
    "drop out = 0"
   ]
  },
  {
   "cell_type": "code",
   "execution_count": 16,
   "id": "1ae0c249-9472-43c1-8f82-fadd61f277aa",
   "metadata": {
    "scrolled": true
   },
   "outputs": [],
   "source": [
    "torch.manual_seed(4321)\n",
    "model = predicter()\n",
    "optimizer = torch.optim.SGD(model.parameters(), lr=0.1)\n",
    "\n",
    "trainloss = []\n",
    "testloss = []\n",
    "accuracy = []\n",
    "for epoch in range(0,1500):\n",
    "    train(model, df_train_tens, target_train_tens, optimizer, epoch+1)\n",
    "    test(model, df_test_tens, target_test_tens)"
   ]
  },
  {
   "cell_type": "code",
   "execution_count": 17,
   "id": "b8ff598d-9719-4203-8bc9-8726d56aeea2",
   "metadata": {},
   "outputs": [
    {
     "data": {
      "image/png": "[encoded data removed]",
      "text/plain": [
       "<Figure size 640x480 with 1 Axes>"
      ]
     },
     "metadata": {},
     "output_type": "display_data"
    }
   ],
   "source": [
    "plt.plot(trainloss, label='train_loss')#lr 0.1, rmse\n",
    "plt.plot(testloss, label='test_loss')\n",
    "plt.show()"
   ]
  },
  {
   "cell_type": "markdown",
   "id": "7bb16ed0-8d89-4870-881f-7d0be79c656b",
   "metadata": {},
   "source": [
    "# Results"
   ]
  },
  {
   "cell_type": "markdown",
   "id": "a727abe3-7949-425f-9fc9-8a49c10ab7b2",
   "metadata": {},
   "source": [
    "First, let's take a look at what we have learnt. The model basically learnt the following number of parameters:"
   ]
  },
  {
   "cell_type": "code",
   "execution_count": 18,
   "id": "54c6a95d-7155-48b1-bf0b-dd51a0f8a9fd",
   "metadata": {},
   "outputs": [
    {
     "name": "stdout",
     "output_type": "stream",
     "text": [
      "torch.Size([500, 330])\n",
      "torch.Size([500])\n",
      "torch.Size([2000, 500])\n",
      "torch.Size([2000])\n",
      "torch.Size([200, 2000])\n",
      "torch.Size([200])\n",
      "torch.Size([32, 200])\n",
      "torch.Size([32])\n",
      "torch.Size([1, 32])\n",
      "torch.Size([1])\n"
     ]
    }
   ],
   "source": [
    "for params in model.parameters():\n",
    "    print(params.shape)"
   ]
  },
  {
   "cell_type": "markdown",
   "id": "537b144c-d1e4-42c6-9179-06dbd738c0be",
   "metadata": {},
   "source": [
    "Let's calculate error and compare our predictions with the actual results of the training data."
   ]
  },
  {
   "cell_type": "code",
   "execution_count": 19,
   "id": "623c72d3-89ed-4db0-870c-108478f473b5",
   "metadata": {},
   "outputs": [
    {
     "data": {
      "text/plain": [
       "tensor(0.1682)"
      ]
     },
     "execution_count": 19,
     "metadata": {},
     "output_type": "execute_result"
    }
   ],
   "source": [
    "y_hat = model(df_tens).detach().reshape(1460)\n",
    "y = torch.tensor(target_raw)\n",
    "rmse(y,y_hat) "
   ]
  },
  {
   "cell_type": "code",
   "execution_count": 20,
   "id": "5715fd90-472c-469e-b7b4-c5cb9cbd568d",
   "metadata": {},
   "outputs": [
    {
     "data": {
      "text/html": [
       "<div>\n",
       "<style scoped>\n",
       "    .dataframe tbody tr th:only-of-type {\n",
       "        vertical-align: middle;\n",
       "    }\n",
       "\n",
       "    .dataframe tbody tr th {\n",
       "        vertical-align: top;\n",
       "    }\n",
       "\n",
       "    .dataframe thead th {\n",
       "        text-align: right;\n",
       "    }\n",
       "</style>\n",
       "<table border=\"1\" class=\"dataframe\">\n",
       "  <thead>\n",
       "    <tr style=\"text-align: right;\">\n",
       "      <th></th>\n",
       "      <th>SalePrice</th>\n",
       "      <th>predictions</th>\n",
       "    </tr>\n",
       "  </thead>\n",
       "  <tbody>\n",
       "    <tr>\n",
       "      <th>0</th>\n",
       "      <td>208500</td>\n",
       "      <td>226025.125000</td>\n",
       "    </tr>\n",
       "    <tr>\n",
       "      <th>1</th>\n",
       "      <td>181500</td>\n",
       "      <td>182704.453125</td>\n",
       "    </tr>\n",
       "    <tr>\n",
       "      <th>2</th>\n",
       "      <td>223500</td>\n",
       "      <td>229591.687500</td>\n",
       "    </tr>\n",
       "    <tr>\n",
       "      <th>3</th>\n",
       "      <td>140000</td>\n",
       "      <td>169823.687500</td>\n",
       "    </tr>\n",
       "    <tr>\n",
       "      <th>4</th>\n",
       "      <td>250000</td>\n",
       "      <td>271628.281250</td>\n",
       "    </tr>\n",
       "    <tr>\n",
       "      <th>...</th>\n",
       "      <td>...</td>\n",
       "      <td>...</td>\n",
       "    </tr>\n",
       "    <tr>\n",
       "      <th>1455</th>\n",
       "      <td>175000</td>\n",
       "      <td>205164.000000</td>\n",
       "    </tr>\n",
       "    <tr>\n",
       "      <th>1456</th>\n",
       "      <td>210000</td>\n",
       "      <td>213645.859375</td>\n",
       "    </tr>\n",
       "    <tr>\n",
       "      <th>1457</th>\n",
       "      <td>266500</td>\n",
       "      <td>200548.343750</td>\n",
       "    </tr>\n",
       "    <tr>\n",
       "      <th>1458</th>\n",
       "      <td>142125</td>\n",
       "      <td>138865.906250</td>\n",
       "    </tr>\n",
       "    <tr>\n",
       "      <th>1459</th>\n",
       "      <td>147500</td>\n",
       "      <td>169332.703125</td>\n",
       "    </tr>\n",
       "  </tbody>\n",
       "</table>\n",
       "<p>1460 rows × 2 columns</p>\n",
       "</div>"
      ],
      "text/plain": [
       "      SalePrice    predictions\n",
       "0        208500  226025.125000\n",
       "1        181500  182704.453125\n",
       "2        223500  229591.687500\n",
       "3        140000  169823.687500\n",
       "4        250000  271628.281250\n",
       "...         ...            ...\n",
       "1455     175000  205164.000000\n",
       "1456     210000  213645.859375\n",
       "1457     266500  200548.343750\n",
       "1458     142125  138865.906250\n",
       "1459     147500  169332.703125\n",
       "\n",
       "[1460 rows x 2 columns]"
      ]
     },
     "execution_count": 20,
     "metadata": {},
     "output_type": "execute_result"
    }
   ],
   "source": [
    "df_res = pd.DataFrame(y.numpy(), columns=['SalePrice'])\n",
    "df_res['predictions'] = pd.DataFrame(y_hat.numpy(),columns=['predictions'])\n",
    "df_res #doesn't look too bad!"
   ]
  },
  {
   "cell_type": "markdown",
   "id": "c6350b48-b4a6-4ce9-a267-101369abfba1",
   "metadata": {},
   "source": [
    "Next, we calculate predictions for the test data and save it as a .csv file for submission to Kaggle."
   ]
  },
  {
   "cell_type": "code",
   "execution_count": 21,
   "id": "e741541d-56e6-4ac7-807e-bde5324b1403",
   "metadata": {},
   "outputs": [],
   "source": [
    "predictions_raw = model(df_pred_tens).detach().reshape(1459)"
   ]
  },
  {
   "cell_type": "code",
   "execution_count": 22,
   "id": "983602f1-464f-42bf-a71b-4b8bd8ee0798",
   "metadata": {},
   "outputs": [],
   "source": [
    "predictions_df = pd.DataFrame(predictions_raw.numpy(), columns=['SalePrice'])\n",
    "predictions_df['Id'] = pred_id\n",
    "predictions_df = pd.DataFrame(predictions_df, columns=['Id', 'SalePrice'])"
   ]
  },
  {
   "cell_type": "code",
   "execution_count": 23,
   "id": "311cf694-4f7c-470c-bdfe-b7c180aaba6c",
   "metadata": {},
   "outputs": [
    {
     "data": {
      "text/html": [
       "<div>\n",
       "<style scoped>\n",
       "    .dataframe tbody tr th:only-of-type {\n",
       "        vertical-align: middle;\n",
       "    }\n",
       "\n",
       "    .dataframe tbody tr th {\n",
       "        vertical-align: top;\n",
       "    }\n",
       "\n",
       "    .dataframe thead th {\n",
       "        text-align: right;\n",
       "    }\n",
       "</style>\n",
       "<table border=\"1\" class=\"dataframe\">\n",
       "  <thead>\n",
       "    <tr style=\"text-align: right;\">\n",
       "      <th></th>\n",
       "      <th>Id</th>\n",
       "      <th>SalePrice</th>\n",
       "    </tr>\n",
       "  </thead>\n",
       "  <tbody>\n",
       "    <tr>\n",
       "      <th>0</th>\n",
       "      <td>1461</td>\n",
       "      <td>121669.531250</td>\n",
       "    </tr>\n",
       "    <tr>\n",
       "      <th>1</th>\n",
       "      <td>1462</td>\n",
       "      <td>167228.718750</td>\n",
       "    </tr>\n",
       "    <tr>\n",
       "      <th>2</th>\n",
       "      <td>1463</td>\n",
       "      <td>201806.937500</td>\n",
       "    </tr>\n",
       "    <tr>\n",
       "      <th>3</th>\n",
       "      <td>1464</td>\n",
       "      <td>221928.031250</td>\n",
       "    </tr>\n",
       "    <tr>\n",
       "      <th>4</th>\n",
       "      <td>1465</td>\n",
       "      <td>184466.781250</td>\n",
       "    </tr>\n",
       "    <tr>\n",
       "      <th>...</th>\n",
       "      <td>...</td>\n",
       "      <td>...</td>\n",
       "    </tr>\n",
       "    <tr>\n",
       "      <th>1454</th>\n",
       "      <td>2915</td>\n",
       "      <td>83382.593750</td>\n",
       "    </tr>\n",
       "    <tr>\n",
       "      <th>1455</th>\n",
       "      <td>2916</td>\n",
       "      <td>96988.781250</td>\n",
       "    </tr>\n",
       "    <tr>\n",
       "      <th>1456</th>\n",
       "      <td>2917</td>\n",
       "      <td>199650.406250</td>\n",
       "    </tr>\n",
       "    <tr>\n",
       "      <th>1457</th>\n",
       "      <td>2918</td>\n",
       "      <td>110005.804688</td>\n",
       "    </tr>\n",
       "    <tr>\n",
       "      <th>1458</th>\n",
       "      <td>2919</td>\n",
       "      <td>228478.875000</td>\n",
       "    </tr>\n",
       "  </tbody>\n",
       "</table>\n",
       "<p>1459 rows × 2 columns</p>\n",
       "</div>"
      ],
      "text/plain": [
       "        Id      SalePrice\n",
       "0     1461  121669.531250\n",
       "1     1462  167228.718750\n",
       "2     1463  201806.937500\n",
       "3     1464  221928.031250\n",
       "4     1465  184466.781250\n",
       "...    ...            ...\n",
       "1454  2915   83382.593750\n",
       "1455  2916   96988.781250\n",
       "1456  2917  199650.406250\n",
       "1457  2918  110005.804688\n",
       "1458  2919  228478.875000\n",
       "\n",
       "[1459 rows x 2 columns]"
      ]
     },
     "execution_count": 23,
     "metadata": {},
     "output_type": "execute_result"
    }
   ],
   "source": [
    "predictions_df"
   ]
  },
  {
   "cell_type": "code",
   "execution_count": 24,
   "id": "a4c6221a-b081-4c26-9e20-319737803cb6",
   "metadata": {},
   "outputs": [],
   "source": [
    "predictions_df.to_csv('./submission.csv', columns=['Id', 'SalePrice'], index=False)"
   ]
  },
  {
   "cell_type": "code",
   "execution_count": null,
   "id": "25910048-f859-4e6a-bb7a-127e1957d52a",
   "metadata": {},
   "outputs": [],
   "source": []
  }
 ],
 "metadata": {
  "kernelspec": {
   "display_name": "Python 3 (ipykernel)",
   "language": "python",
   "name": "python3"
  },
  "language_info": {
   "codemirror_mode": {
    "name": "ipython",
    "version": 3
   },
   "file_extension": ".py",
   "mimetype": "text/x-python",
   "name": "python",
   "nbconvert_exporter": "python",
   "pygments_lexer": "ipython3",
   "version": "3.12.2"
  }
 },
 "nbformat": 4,
 "nbformat_minor": 5
}
